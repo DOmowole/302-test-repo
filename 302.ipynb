{
  "nbformat": 4,
  "nbformat_minor": 0,
  "metadata": {
    "colab": {
      "name": "Untitled0.ipynb",
      "provenance": [],
      "collapsed_sections": [],
      "authorship_tag": "ABX9TyNnwO+SlrJLnhKYo0NXDVBr",
      "include_colab_link": true
    },
    "kernelspec": {
      "name": "python3",
      "display_name": "Python 3"
    }
  },
  "cells": [
    {
      "cell_type": "markdown",
      "metadata": {
        "id": "view-in-github",
        "colab_type": "text"
      },
      "source": [
        "<a href=\"https://colab.research.google.com/github/DOmowole/302-test-repo/blob/main/302.ipynb\" target=\"_parent\"><img src=\"https://colab.research.google.com/assets/colab-badge.svg\" alt=\"Open In Colab\"/></a>"
      ]
    },
    {
      "cell_type": "code",
      "metadata": {
        "id": "aeD_WVHdsCXe"
      },
      "source": [
        ""
      ],
      "execution_count": null,
      "outputs": []
    },
    {
      "cell_type": "markdown",
      "metadata": {
        "id": "obuZYp-EsHoB"
      },
      "source": [
        "Exercise - Lecture 3"
      ]
    },
    {
      "cell_type": "code",
      "metadata": {
        "colab": {
          "base_uri": "https://localhost:8080/"
        },
        "id": "Il7tHHcJsLSI",
        "outputId": "59c38c15-f414-4062-9784-0246fe19e857"
      },
      "source": [
        "\"\"\"\r\n",
        "Author: DOmowole\r\n",
        "Created: February 2021\r\n",
        "\"\"\"\r\n",
        "\r\n",
        "pi = 3.14 #2 digits kept\r\n",
        "r = 2\r\n",
        "\r\n",
        "#This line calculates area\r\n",
        "area = pi*(r**2)\r\n",
        "\r\n",
        "#This line calculates perimeter\r\n",
        "perim = 2.0*pi*r\r\n",
        "\r\n",
        "#This line outputs the results\r\n",
        "print (\"Given r: \",r)\r\n",
        "print (\"Area is: \", area)\r\n",
        "print (\"Perimeter is: \", perim)"
      ],
      "execution_count": 4,
      "outputs": [
        {
          "output_type": "stream",
          "text": [
            "Given r:  2\n",
            "Area is:  12.56\n",
            "Perimeter is:  12.56\n"
          ],
          "name": "stdout"
        }
      ]
    }
  ]
}